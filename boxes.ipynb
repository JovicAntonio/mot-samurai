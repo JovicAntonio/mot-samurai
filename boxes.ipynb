{
 "cells": [
  {
   "cell_type": "code",
   "execution_count": 5,
   "metadata": {},
   "outputs": [
    {
     "name": "stdout",
     "output_type": "stream",
     "text": [
      "Draw bounding boxes on the first frame. Press 'q' when you're done.\n"
     ]
    },
    {
     "ename": "KeyboardInterrupt",
     "evalue": "",
     "output_type": "error",
     "traceback": [
      "\u001b[1;31m---------------------------------------------------------------------------\u001b[0m",
      "\u001b[1;31mKeyboardInterrupt\u001b[0m                         Traceback (most recent call last)",
      "Cell \u001b[1;32mIn[5], line 42\u001b[0m\n\u001b[0;32m     38\u001b[0m \u001b[38;5;28mprint\u001b[39m(\u001b[38;5;124m\"\u001b[39m\u001b[38;5;124mDraw bounding boxes on the first frame. Press \u001b[39m\u001b[38;5;124m'\u001b[39m\u001b[38;5;124mq\u001b[39m\u001b[38;5;124m'\u001b[39m\u001b[38;5;124m when you\u001b[39m\u001b[38;5;124m'\u001b[39m\u001b[38;5;124mre done.\u001b[39m\u001b[38;5;124m\"\u001b[39m)\n\u001b[0;32m     41\u001b[0m \u001b[38;5;28;01mwhile\u001b[39;00m \u001b[38;5;28;01mTrue\u001b[39;00m:\n\u001b[1;32m---> 42\u001b[0m     key \u001b[38;5;241m=\u001b[39m \u001b[43mcv2\u001b[49m\u001b[38;5;241;43m.\u001b[39;49m\u001b[43mwaitKey\u001b[49m\u001b[43m(\u001b[49m\u001b[38;5;241;43m1\u001b[39;49m\u001b[43m)\u001b[49m \u001b[38;5;241m&\u001b[39m \u001b[38;5;241m0xFF\u001b[39m\n\u001b[0;32m     43\u001b[0m     \u001b[38;5;28;01mif\u001b[39;00m key \u001b[38;5;241m==\u001b[39m \u001b[38;5;28mord\u001b[39m(\u001b[38;5;124m'\u001b[39m\u001b[38;5;124mq\u001b[39m\u001b[38;5;124m'\u001b[39m):  \u001b[38;5;66;03m# Press 'q' to exit\u001b[39;00m\n\u001b[0;32m     44\u001b[0m         \u001b[38;5;28;01mbreak\u001b[39;00m\n",
      "\u001b[1;31mKeyboardInterrupt\u001b[0m: "
     ]
    }
   ],
   "source": [
    "import cv2\n",
    "import numpy as np\n",
    "\n",
    "bboxes = []\n",
    "\n",
    "def on_click(event, x, y, flags, param):\n",
    "    global bbox_start\n",
    "    if event == cv2.EVENT_LBUTTONDOWN:\n",
    "        bbox_start = (x, y)\n",
    "    elif event == cv2.EVENT_LBUTTONUP:\n",
    "        bbox_end = (x, y)\n",
    "        bboxes.append((bbox_start[0], bbox_start[1], bbox_end[0], bbox_end[1]))\n",
    "        cv2.rectangle(img, bbox_start, bbox_end, (0, 255, 0), 2)\n",
    "        cv2.imshow(\"First Frame\", img)\n",
    "\n",
    "video_path = 'test_video_2.mp4'\n",
    "cap = cv2.VideoCapture(video_path)\n",
    "\n",
    "if not cap.isOpened():\n",
    "    print(\"Error: Could not open video.\")\n",
    "    exit()\n",
    "\n",
    "\n",
    "ret, frame = cap.read()\n",
    "cap.release()\n",
    "\n",
    "if not ret:\n",
    "    print(\"Error: Could not read the first frame from the video.\")\n",
    "    exit()\n",
    "\n",
    "\n",
    "img = frame.copy()\n",
    "\n",
    "\n",
    "cv2.imshow(\"First Frame\", img)\n",
    "cv2.setMouseCallback(\"First Frame\", on_click)\n",
    "\n",
    "print(\"Draw bounding boxes on the first frame. Press 'q' when you're done.\")\n",
    "\n",
    "\n",
    "while True:\n",
    "    key = cv2.waitKey(1) & 0xFF\n",
    "    if key == ord('q'):  # Press 'q' to exit\n",
    "        break\n",
    "\n",
    "\n",
    "output_filename = 'bounding_boxes.txt'\n",
    "with open(output_filename, 'w') as f:\n",
    "    for bbox in bboxes:\n",
    "        f.write(f\"{bbox[0]},{bbox[1]},{bbox[2]},{bbox[3]}\\n\")\n",
    "\n",
    "print(f\"Bounding boxes saved to {output_filename}\")\n",
    "\n",
    "cv2.destroyAllWindows()\n"
   ]
  }
 ],
 "metadata": {
  "kernelspec": {
   "display_name": "Python 3",
   "language": "python",
   "name": "python3"
  },
  "language_info": {
   "codemirror_mode": {
    "name": "ipython",
    "version": 3
   },
   "file_extension": ".py",
   "mimetype": "text/x-python",
   "name": "python",
   "nbconvert_exporter": "python",
   "pygments_lexer": "ipython3",
   "version": "3.12.0"
  }
 },
 "nbformat": 4,
 "nbformat_minor": 2
}
